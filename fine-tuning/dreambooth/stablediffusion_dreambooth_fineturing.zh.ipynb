{
 "cells": [
  {
   "cell_type": "markdown",
   "source": [
    "### Dreambooth 模型微调\n",
    "DreamBooth 是一种深度学习生成模型，用于微调现有的文本到图像模型，由 Google Research 和波士顿大学的研究人员于 2022 年开发。最初使用 Google 自己的 Imagen 文本到图像模型开发，DreamBooth 的实现可以应用到其他文本到图像模型，它可以让模型在对一个主题的三到五张图像进行训练后生成更精细和个性化的输出。\n",
    "\n",
    "接下来我们将使用 DreamBooth 来微调我们的 stable diffusion 模型.\n",
    "\n",
    "#### Notebook 步骤\n",
    "1. 导入 boto3, sagemaker python SDK\n",
    "2. 构建 dreambooth fine-tuning 镜像\n",
    "3. 实现模型微调\n",
    "   * 配置超参\n",
    "   * 创建训练任务\n",
    "4. 测试"
   ],
   "metadata": {
    "collapsed": false,
    "pycharm": {
     "name": "#%% md\n"
    }
   }
  },
  {
   "cell_type": "markdown",
   "id": "eb9eb077",
   "metadata": {
    "pycharm": {
     "name": "#%% md\n"
    }
   },
   "source": [
    "#### 1. 导入 boto3, sagemaker python SDK"
   ]
  },
  {
   "cell_type": "code",
   "execution_count": 4,
   "id": "8314fc9b-c468-497b-abcc-259ec792154c",
   "metadata": {
    "tags": [],
    "pycharm": {
     "name": "#%%\n"
    }
   },
   "outputs": [],
   "source": [
    "import sagemaker\n",
    "import boto3\n",
    "from sagemaker.pytorch import PyTorch\n",
    "sagemaker_session = sagemaker.Session()\n",
    "bucket = sagemaker_session.default_bucket()\n",
    "role = sagemaker.get_execution_role()\n",
    "account_id = boto3.client('sts').get_caller_identity().get('Account')\n",
    "region_name = boto3.session.Session().region_name\n",
    "\n",
    "images_s3uri = 's3://{0}/dreambooth/images/'.format(bucket)\n",
    "models_s3uri = 's3://{0}/stable-diffusion/models/'.format(bucket)\n",
    "dreambooth_s3uri = 's3://{0}/stable-diffusion/dreambooth/'.format(bucket)"
   ]
  },
  {
   "cell_type": "markdown",
   "id": "bd2a3178",
   "metadata": {
    "pycharm": {
     "name": "#%% md\n"
    }
   },
   "source": [
    "#### 2. 构建 dreambooth fine-tuning 镜像\n",
    "  如果你使用较小的实例，如 ml.t3.xlarge，这一步将需要 60~90 分钟的时间"
   ]
  },
  {
   "cell_type": "code",
   "execution_count": 5,
   "id": "a7612e5a",
   "metadata": {
    "pycharm": {
     "name": "#%%\n"
    }
   },
   "outputs": [
    {
     "name": "stdout",
     "output_type": "stream",
     "text": [
      "WARNING! Using --password via the CLI is insecure. Use --password-stdin.\n",
      "WARNING! Your password will be stored unencrypted in /home/ec2-user/.docker/config.json.\n",
      "Configure a credential helper to remove this warning. See\n",
      "https://docs.docker.com/engine/reference/commandline/login/#credentials-store\n",
      "\n",
      "Login Succeeded\n",
      "Cloning into 'sd_dreambooth_extension'...\n",
      "remote: Enumerating objects: 1926, done.\u001B[K\n",
      "remote: Counting objects: 100% (1926/1926), done.\u001B[K\n",
      "remote: Compressing objects: 100% (698/698), done.\u001B[K\n",
      "remote: Total 1926 (delta 1248), reused 1834 (delta 1163), pack-reused 0\u001B[K\n",
      "Receiving objects: 100% (1926/1926), 10.12 MiB | 21.91 MiB/s, done.\n",
      "Resolving deltas: 100% (1248/1248), done.\n",
      "Sending build context to Docker daemon   35.9MB\n",
      "Step 1/19 : FROM ghcr.io/allenai/pytorch:1.12.1-cuda11.3-python3.9-v1.2.0\n",
      " ---> 56910f81bfd4\n",
      "Step 2/19 : ENV PATH=\"/opt/ml/code:${PATH}\"\n",
      " ---> Using cache\n",
      " ---> f07ea4da8ec5\n",
      "Step 3/19 : ENV DEBIAN_FRONTEND noninteractive\n",
      " ---> Using cache\n",
      " ---> 670419a97e13\n",
      "Step 4/19 : RUN apt-get update\n",
      " ---> Using cache\n",
      " ---> 850df85475f1\n",
      "Step 5/19 : RUN apt-get install --assume-yes apt-utils -y\n",
      " ---> Using cache\n",
      " ---> 1c1b107a7372\n",
      "Step 6/19 : RUN apt update\n",
      " ---> Using cache\n",
      " ---> afa944339005\n",
      "Step 7/19 : RUN echo \"Y\"|apt install vim\n",
      " ---> Using cache\n",
      " ---> 5fb4ac06a78c\n",
      "Step 8/19 : RUN apt install wget git -y\n",
      " ---> Using cache\n",
      " ---> 667299633984\n",
      "Step 9/19 : RUN apt install libgl1-mesa-glx -y\n",
      " ---> Using cache\n",
      " ---> d70186bb64c1\n",
      "Step 10/19 : RUN pip install opencv-python-headless\n",
      " ---> Using cache\n",
      " ---> 03cb86ade03b\n",
      "Step 11/19 : RUN pip3 install sagemaker-training\n",
      " ---> Running in 04117c456fe8\n",
      "Collecting sagemaker-training\n",
      "  Downloading sagemaker_training-4.4.5.tar.gz (58 kB)\n",
      "Requirement already satisfied: numpy in /opt/conda/lib/python3.9/site-packages (from sagemaker-training) (1.21.5)\n",
      "Collecting boto3\n",
      "  Downloading boto3-1.26.64-py3-none-any.whl (132 kB)\n",
      "Requirement already satisfied: six in /opt/conda/lib/python3.9/site-packages (from sagemaker-training) (1.16.0)\n",
      "Requirement already satisfied: pip in /opt/conda/lib/python3.9/site-packages (from sagemaker-training) (21.2.4)\n",
      "Collecting retrying>=1.3.3\n",
      "  Downloading retrying-1.3.4-py3-none-any.whl (11 kB)\n",
      "Collecting gevent\n",
      "  Downloading gevent-22.10.2-cp39-cp39-manylinux_2_17_x86_64.manylinux2014_x86_64.whl (6.4 MB)\n",
      "Collecting inotify_simple==1.2.1\n",
      "  Downloading inotify_simple-1.2.1.tar.gz (7.9 kB)\n",
      "Collecting werkzeug>=0.15.5\n",
      "  Downloading Werkzeug-2.2.2-py3-none-any.whl (232 kB)\n",
      "Collecting paramiko>=2.4.2\n",
      "  Downloading paramiko-3.0.0-py3-none-any.whl (210 kB)\n",
      "Collecting psutil>=5.6.7\n",
      "  Downloading psutil-5.9.4-cp36-abi3-manylinux_2_12_x86_64.manylinux2010_x86_64.manylinux_2_17_x86_64.manylinux2014_x86_64.whl (280 kB)\n",
      "Collecting protobuf<=3.20.2,>=3.9.2\n",
      "  Downloading protobuf-3.20.2-cp39-cp39-manylinux_2_5_x86_64.manylinux1_x86_64.whl (1.0 MB)\n",
      "Collecting scipy>=1.2.2\n",
      "  Downloading scipy-1.10.0-cp39-cp39-manylinux_2_17_x86_64.manylinux2014_x86_64.whl (34.4 MB)\n",
      "Requirement already satisfied: cryptography>=3.3 in /opt/conda/lib/python3.9/site-packages (from paramiko>=2.4.2->sagemaker-training) (36.0.0)\n",
      "Collecting bcrypt>=3.2\n",
      "  Downloading bcrypt-4.0.1-cp36-abi3-manylinux_2_24_x86_64.whl (593 kB)\n",
      "Collecting pynacl>=1.5\n",
      "  Downloading PyNaCl-1.5.0-cp36-abi3-manylinux_2_17_x86_64.manylinux2014_x86_64.manylinux_2_24_x86_64.whl (856 kB)\n",
      "Requirement already satisfied: cffi>=1.12 in /opt/conda/lib/python3.9/site-packages (from cryptography>=3.3->paramiko>=2.4.2->sagemaker-training) (1.15.0)\n",
      "Requirement already satisfied: pycparser in /opt/conda/lib/python3.9/site-packages (from cffi>=1.12->cryptography>=3.3->paramiko>=2.4.2->sagemaker-training) (2.21)\n",
      "Collecting MarkupSafe>=2.1.1\n",
      "  Downloading MarkupSafe-2.1.2-cp39-cp39-manylinux_2_17_x86_64.manylinux2014_x86_64.whl (25 kB)\n",
      "Collecting s3transfer<0.7.0,>=0.6.0\n",
      "  Downloading s3transfer-0.6.0-py3-none-any.whl (79 kB)\n",
      "Collecting jmespath<2.0.0,>=0.7.1\n",
      "  Downloading jmespath-1.0.1-py3-none-any.whl (20 kB)\n",
      "Collecting botocore<1.30.0,>=1.29.64\n",
      "  Downloading botocore-1.29.64-py3-none-any.whl (10.4 MB)\n",
      "Collecting python-dateutil<3.0.0,>=2.1\n",
      "  Downloading python_dateutil-2.8.2-py2.py3-none-any.whl (247 kB)\n",
      "Requirement already satisfied: urllib3<1.27,>=1.25.4 in /opt/conda/lib/python3.9/site-packages (from botocore<1.30.0,>=1.29.64->boto3->sagemaker-training) (1.26.8)\n",
      "Requirement already satisfied: setuptools in /opt/conda/lib/python3.9/site-packages (from gevent->sagemaker-training) (61.2.0)\n",
      "Collecting zope.interface\n",
      "  Downloading zope.interface-5.5.2-cp39-cp39-manylinux_2_5_x86_64.manylinux1_x86_64.manylinux_2_12_x86_64.manylinux2010_x86_64.whl (257 kB)\n",
      "Collecting zope.event\n",
      "  Downloading zope.event-4.6-py2.py3-none-any.whl (6.8 kB)\n",
      "Collecting greenlet>=2.0.0\n",
      "  Downloading greenlet-2.0.2-cp39-cp39-manylinux_2_17_x86_64.manylinux2014_x86_64.whl (610 kB)\n",
      "Building wheels for collected packages: sagemaker-training, inotify-simple\n",
      "  Building wheel for sagemaker-training (setup.py): started\n",
      "  Building wheel for sagemaker-training (setup.py): finished with status 'done'\n",
      "  Created wheel for sagemaker-training: filename=sagemaker_training-4.4.5-cp39-cp39-linux_x86_64.whl size=78051 sha256=989dc37d40c7da0e3079d5ff8058d7b5243fb135c227c357b30b18e4bb007bdd\n",
      "  Stored in directory: /root/.cache/pip/wheels/2a/7e/d3/1cab86202066597cbad66f340ca0239d7456bd7283ec8a0c0f\n",
      "  Building wheel for inotify-simple (setup.py): started\n",
      "  Building wheel for inotify-simple (setup.py): finished with status 'done'\n",
      "  Created wheel for inotify-simple: filename=inotify_simple-1.2.1-py3-none-any.whl size=8218 sha256=12e2208d5da0cdb91440b1db2d127d40d2428ef20bcc08089be1aa2551277ca8\n",
      "  Stored in directory: /root/.cache/pip/wheels/b6/4e/da/d0d3ad5cdf86b232168db1e8ea6bc5763a73468e7d78e2a4a7\n",
      "Successfully built sagemaker-training inotify-simple\n",
      "Installing collected packages: python-dateutil, jmespath, botocore, zope.interface, zope.event, s3transfer, pynacl, MarkupSafe, greenlet, bcrypt, werkzeug, scipy, retrying, psutil, protobuf, paramiko, inotify-simple, gevent, boto3, sagemaker-training\n",
      "Successfully installed MarkupSafe-2.1.2 bcrypt-4.0.1 boto3-1.26.64 botocore-1.29.64 gevent-22.10.2 greenlet-2.0.2 inotify-simple-1.2.1 jmespath-1.0.1 paramiko-3.0.0 protobuf-3.20.2 psutil-5.9.4 pynacl-1.5.0 python-dateutil-2.8.2 retrying-1.3.4 s3transfer-0.6.0 sagemaker-training-4.4.5 scipy-1.10.0 werkzeug-2.2.2 zope.event-4.6 zope.interface-5.5.2\n",
      "\u001B[91mWARNING: Running pip as the 'root' user can result in broken permissions and conflicting behaviour with the system package manager. It is recommended to use a virtual environment instead: https://pip.pypa.io/warnings/venv\n",
      "\u001B[0mRemoving intermediate container 04117c456fe8\n",
      " ---> d1eeefc2594a\n",
      "Step 12/19 : RUN export TORCH_CUDA_ARCH_LIST=\"7.5 8.0 8.6\" && export FORCE_CUDA=\"1\" && pip install ninja triton==2.0.0.dev20221120 && git clone https://github.com/xieyongliang/xformers.git /opt/ml/code/repositories/xformers && cd /opt/ml/code/repositories/xformers && git submodule update --init --recursive && pip install -r requirements.txt && pip install -e .\n",
      " ---> Running in 93573eccb9e4\n",
      "Collecting ninja\n",
      "  Downloading ninja-1.11.1-py2.py3-none-manylinux_2_12_x86_64.manylinux2010_x86_64.whl (145 kB)\n",
      "Collecting triton==2.0.0.dev20221120\n",
      "  Downloading triton-2.0.0.dev20221120-cp39-cp39-manylinux_2_17_x86_64.manylinux2014_x86_64.whl (18.7 MB)\n",
      "Requirement already satisfied: torch in /opt/conda/lib/python3.9/site-packages (from triton==2.0.0.dev20221120) (1.12.1)\n",
      "Collecting cmake\n",
      "  Downloading cmake-3.25.2-py2.py3-none-manylinux_2_17_x86_64.manylinux2014_x86_64.whl (23.7 MB)\n",
      "Collecting filelock\n",
      "  Downloading filelock-3.9.0-py3-none-any.whl (9.7 kB)\n",
      "Requirement already satisfied: typing_extensions in /opt/conda/lib/python3.9/site-packages (from torch->triton==2.0.0.dev20221120) (4.3.0)\n",
      "Installing collected packages: filelock, cmake, triton, ninja\n",
      "Successfully installed cmake-3.25.2 filelock-3.9.0 ninja-1.11.1 triton-2.0.0.dev20221120\n",
      "\u001B[91mWARNING: Running pip as the 'root' user can result in broken permissions and conflicting behaviour with the system package manager. It is recommended to use a virtual environment instead: https://pip.pypa.io/warnings/venv\n",
      "\u001B[0m\u001B[91mCloning into '/opt/ml/code/repositories/xformers'...\n"
     ]
    },
    {
     "name": "stdout",
     "output_type": "stream",
     "text": [
      "\u001B[0m\u001B[91mSubmodule 'third_party/cutlass' (https://github.com/NVIDIA/cutlass.git) registered for path 'third_party/cutlass'\n",
      "\u001B[0m\u001B[91mSubmodule 'third_party/flash-attention' (https://github.com/HazyResearch/flash-attention.git) registered for path 'third_party/flash-attention'\n",
      "\u001B[0m\u001B[91mCloning into '/opt/ml/code/repositories/xformers/third_party/cutlass'...\n",
      "\u001B[0m\u001B[91mCloning into '/opt/ml/code/repositories/xformers/third_party/flash-attention'...\n",
      "\u001B[0mSubmodule path 'third_party/cutlass': checked out '06eb90cc0daae633b1e25e80ace1ef81ac158baa'\n",
      "Submodule path 'third_party/flash-attention': checked out 'a84d07283c23d5afa10fece6927da088f7fff81e'\n",
      "\u001B[91mSubmodule 'csrc/flash_attn/cutlass' (https://github.com/NVIDIA/cutlass.git) registered for path 'third_party/flash-attention/csrc/flash_attn/cutlass'\n",
      "\u001B[0m\u001B[91mCloning into '/opt/ml/code/repositories/xformers/third_party/flash-attention/csrc/flash_attn/cutlass'...\n",
      "\u001B[0mSubmodule path 'third_party/flash-attention/csrc/flash_attn/cutlass': checked out '319a389f42b776fae5701afcb943fc03be5b5c25'\n",
      "Requirement already satisfied: torch>=1.12 in /opt/conda/lib/python3.9/site-packages (from -r requirements.txt (line 3)) (1.12.1)\n",
      "Requirement already satisfied: numpy in /opt/conda/lib/python3.9/site-packages (from -r requirements.txt (line 4)) (1.21.5)\n",
      "Collecting pyre-extensions==0.0.23\n",
      "  Downloading pyre_extensions-0.0.23-py3-none-any.whl (11 kB)\n",
      "Collecting einops\n",
      "  Downloading einops-0.6.0-py3-none-any.whl (41 kB)\n",
      "Collecting typing-inspect\n",
      "  Downloading typing_inspect-0.8.0-py3-none-any.whl (8.7 kB)\n",
      "Requirement already satisfied: typing-extensions in /opt/conda/lib/python3.9/site-packages (from pyre-extensions==0.0.23->-r requirements.txt (line 5)) (4.3.0)\n",
      "Collecting mypy-extensions>=0.3.0\n",
      "  Downloading mypy_extensions-1.0.0-py3-none-any.whl (4.7 kB)\n",
      "Installing collected packages: mypy-extensions, typing-inspect, pyre-extensions, einops\n",
      "Successfully installed einops-0.6.0 mypy-extensions-1.0.0 pyre-extensions-0.0.23 typing-inspect-0.8.0\n",
      "\u001B[91mWARNING: Running pip as the 'root' user can result in broken permissions and conflicting behaviour with the system package manager. It is recommended to use a virtual environment instead: https://pip.pypa.io/warnings/venv\n",
      "\u001B[0mObtaining file:///opt/ml/code/repositories/xformers\n",
      "Requirement already satisfied: torch>=1.12 in /opt/conda/lib/python3.9/site-packages (from xformers==0.0.15+4cc967a.d20230206) (1.12.1)\n",
      "Requirement already satisfied: numpy in /opt/conda/lib/python3.9/site-packages (from xformers==0.0.15+4cc967a.d20230206) (1.21.5)\n",
      "Requirement already satisfied: pyre-extensions==0.0.23 in /opt/conda/lib/python3.9/site-packages (from xformers==0.0.15+4cc967a.d20230206) (0.0.23)\n",
      "Requirement already satisfied: einops in /opt/conda/lib/python3.9/site-packages (from xformers==0.0.15+4cc967a.d20230206) (0.6.0)\n",
      "Requirement already satisfied: typing-inspect in /opt/conda/lib/python3.9/site-packages (from pyre-extensions==0.0.23->xformers==0.0.15+4cc967a.d20230206) (0.8.0)\n",
      "Requirement already satisfied: typing-extensions in /opt/conda/lib/python3.9/site-packages (from pyre-extensions==0.0.23->xformers==0.0.15+4cc967a.d20230206) (4.3.0)\n",
      "Requirement already satisfied: mypy-extensions>=0.3.0 in /opt/conda/lib/python3.9/site-packages (from typing-inspect->pyre-extensions==0.0.23->xformers==0.0.15+4cc967a.d20230206) (1.0.0)\n",
      "Installing collected packages: xformers\n",
      "  Running setup.py develop for xformers\n",
      "^C\n"
     ]
    }
   ],
   "source": [
    "!./build_push.sh"
   ]
  },
  {
   "cell_type": "markdown",
   "id": "1d843895",
   "metadata": {
    "pycharm": {
     "name": "#%% md\n"
    }
   },
   "source": [
    "#### 3. 模型微调\n",
    "\n",
    "   * image_uri: ecr仓库中的 docker 镜像地址\n",
    "   * instance_type: 用于训练任务的实例大小 , 建议使用 ml.g4dn.xlarge, ml.g5.xlarge\n",
    "   * class_prompt: 提示词类别\n",
    "   * instance_prompt: 用于你的图片的关键词\n",
    "   * model_name: 预训练的模型名称\n",
    "   "
   ]
  },
  {
   "cell_type": "code",
   "execution_count": null,
   "id": "32ad6cd8-eece-43d2-b4c8-b210c63b7833",
   "metadata": {
    "jupyter": {
     "outputs_hidden": true
    },
    "tags": [],
    "pycharm": {
     "name": "#%%\n"
    }
   },
   "outputs": [],
   "source": [
    "import json\n",
    "def json_encode_hyperparameters(hyperparameters):\n",
    "    for (k, v) in hyperparameters.items():\n",
    "        print(k, v)\n",
    "    \n",
    "    return {k: json.dumps(v) for (k, v) in hyperparameters.items()}\n",
    "\n",
    "\n",
    "\n",
    "\n",
    "image_uri = f'{account_id}.dkr.ecr.{region_name}.amazonaws.com/sd-dreambooth-finetuning'\n",
    "instance_type = 'ml.g4dn.2xlarge'\n",
    "\n",
    "instance_prompt=\"photo\\ of\\ aabbcc\\  woman\"\n",
    "class_prompt=\"photo\\ of\\ a\\ woman\"\n",
    "s3_model_output_location='s3://{}/{}/{}'.format(bucket, 'dreambooth', 'trained_models')\n",
    "model_name=\"runwayml/stable-diffusion-v1-5\"\n",
    "#model_name=\"stabilityai/stable-diffusion-2\"\n",
    "instance_dir=\"/opt/ml/input/data/images/\"\n",
    "class_dir=\"/opt/ml/input/data/class_images/\"\n",
    "\n",
    "\n",
    "\n",
    "environment = {\n",
    "    'PYTORCH_CUDA_ALLOC_CONF':'max_split_size_mb:32',\n",
    "    'LD_LIBRARY_PATH':\"${LD_LIBRARY_PATH}:/opt/conda/lib/\"\n",
    "}\n",
    "\n",
    "hyperparameters = {\n",
    "                    'model_name':'aws-trained-dreambooth-model',\n",
    "                    'mixed_precision':'fp16',\n",
    "                    'pretrained_model_name_or_path': model_name, \n",
    "                    'instance_data_dir':instance_dir,\n",
    "                    'class_data_dir':class_dir,\n",
    "                    'with_prior_preservation':True,\n",
    "                    'models_path': '/opt/ml/model/',\n",
    "                    'instance_prompt': instance_prompt, \n",
    "                    'class_prompt':class_prompt,\n",
    "                    'resolution':512,\n",
    "                    'train_batch_size':1,\n",
    "                    'sample_batch_size': 1,\n",
    "                    'gradient_accumulation_steps':1,\n",
    "                    'learning_rate':5e-06,\n",
    "                    'lr_scheduler':'constant',\n",
    "                    'lr_warmup_steps':0,\n",
    "                    'num_class_images':50,\n",
    "                    'max_train_steps':300,\n",
    "                    'save_steps':300,\n",
    "                    'attention':'xformers',\n",
    "                    'prior_loss_weight': 0.5,\n",
    "                    'use_ema':True,\n",
    "                    'train_text_encoder':False,\n",
    "                    'not_cache_latents':True,\n",
    "                    'gradient_checkpointing':True,\n",
    "                    'save_use_epochs': False,\n",
    "                    'use_8bit_adam': False\n",
    "}\n",
    "\n",
    "hyperparameters = json_encode_hyperparameters(hyperparameters)\n",
    "\n"
   ]
  },
  {
   "cell_type": "markdown",
   "id": "9c569c81",
   "metadata": {
    "pycharm": {
     "name": "#%% md\n"
    }
   },
   "source": [
    "   * 创建训练任务"
   ]
  },
  {
   "cell_type": "code",
   "execution_count": null,
   "id": "744ec9cb",
   "metadata": {
    "pycharm": {
     "name": "#%%\n"
    }
   },
   "outputs": [],
   "source": [
    "from sagemaker.estimator import Estimator\n",
    "inputs = {\n",
    "    'images': f\"s3://sagemaker-{region_name}-{account_id}/dreambooth/images/\"\n",
    "}\n",
    "\n",
    "\n",
    "estimator = Estimator(\n",
    "    role = role,\n",
    "    instance_count=1,\n",
    "    instance_type = instance_type,\n",
    "    image_uri = image_uri,\n",
    "    hyperparameters = hyperparameters,\n",
    "    environment = environment\n",
    ")\n",
    "estimator.fit(inputs)"
   ]
  },
  {
   "cell_type": "code",
   "execution_count": 28,
   "id": "bd181b4e-f435-4dca-842a-444d083fdf3c",
   "metadata": {
    "tags": [],
    "pycharm": {
     "name": "#%%\n"
    }
   },
   "outputs": [
    {
     "name": "stdout",
     "output_type": "stream",
     "text": [
      "Model artifact saved at:\n",
      " s3://sagemaker-ap-southeast-1-687912291502/dreambooth-finetuning-v3-with-webui-2023-01-27-13-04-28-401/output/model.tar.gz\n"
     ]
    }
   ],
   "source": [
    "dreambooth_model_data = estimator.model_data\n",
    "print(\"Model artifact saved at:\\n\", dreambooth_model_data)"
   ]
  },
  {
   "cell_type": "code",
   "execution_count": null,
   "id": "21b90beb-3b46-479d-a933-9540b0723331",
   "metadata": {
    "tags": [],
    "pycharm": {
     "name": "#%%\n"
    }
   },
   "outputs": [],
   "source": [
    "!aws s3 ls s3://sagemaker-ap-southeast-1-687912291502/stable-diffusion/dreambooth/aws-db-new-model/working/unet/"
   ]
  },
  {
   "cell_type": "markdown",
   "id": "e3e21926",
   "metadata": {
    "pycharm": {
     "name": "#%% md\n"
    }
   },
   "source": [
    "#### 4. 测试\n",
    "  现在你可以使用推理笔记本加载您训练的模型"
   ]
  },
  {
   "cell_type": "code",
   "execution_count": null,
   "id": "2696183b",
   "metadata": {
    "pycharm": {
     "name": "#%%\n"
    }
   },
   "outputs": [],
   "source": []
  }
 ],
 "metadata": {
  "instance_type": "ml.m5.large",
  "kernelspec": {
   "display_name": "conda_pytorch_p39",
   "language": "python",
   "name": "conda_pytorch_p39"
  },
  "language_info": {
   "codemirror_mode": {
    "name": "ipython",
    "version": 3
   },
   "file_extension": ".py",
   "mimetype": "text/x-python",
   "name": "python",
   "nbconvert_exporter": "python",
   "pygments_lexer": "ipython3",
   "version": "3.9.13"
  }
 },
 "nbformat": 4,
 "nbformat_minor": 5
}